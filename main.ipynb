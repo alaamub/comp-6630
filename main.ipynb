{
 "cells": [
  {
   "cell_type": "markdown",
   "source": [
    "# Data Processing"
   ],
   "metadata": {
    "collapsed": false
   },
   "id": "5255e22e8157565"
  },
  {
   "cell_type": "code",
   "execution_count": 1,
   "id": "initial_id",
   "metadata": {
    "collapsed": true,
    "ExecuteTime": {
     "end_time": "2023-12-03T01:00:18.709688800Z",
     "start_time": "2023-12-03T01:00:12.948447500Z"
    }
   },
   "outputs": [],
   "source": [
    "import numpy as np\n",
    "import pandas as pd\n",
    "import matplotlib.pyplot as plt\n",
    "from sklearn.decomposition import PCA, TruncatedSVD\n",
    "from sklearn.neural_network import MLPRegressor\n",
    "import re\n",
    "from scipy.sparse import csr_matrix, hstack\n",
    "from sklearn.model_selection import GridSearchCV\n",
    "from sklearn.model_selection import train_test_split\n",
    "from sklearn.feature_extraction.text import TfidfVectorizer\n",
    "from sklearn.tree import DecisionTreeClassifier\n",
    "from sklearn.naive_bayes import MultinomialNB\n",
    "from sklearn.metrics import accuracy_score, classification_report\n",
    "from sklearn.neural_network import MLPClassifier\n",
    "from sklearn.linear_model import LogisticRegression\n",
    "from sklearn.preprocessing import StandardScaler\n",
    "from sklearn.pipeline import make_pipeline\n",
    "from datasets import concatenate_datasets, load_dataset_builder, get_dataset_config_names, load_dataset\n",
    "from sklearn.svm import LinearSVC, SVC"
   ]
  },
  {
   "cell_type": "code",
   "execution_count": 2,
   "outputs": [
    {
     "name": "stdout",
     "output_type": "stream",
     "text": [
      "Social Bias Frames is a new way of representing the biases and offensiveness that are implied in language.\n",
      "For example, these frames are meant to distill the implication that \"women (candidates) are less qualified\"\n",
      "behind the statement \"we shouldn’t lower our standards to hire more women.\"\n",
      "['default']\n"
     ]
    }
   ],
   "source": [
    "# Load Social Bias Frames dataset\n",
    "ds_builder = load_dataset_builder(\"social_bias_frames\")\n",
    "print(ds_builder.info.description)\n",
    "configs = get_dataset_config_names(\"social_bias_frames\")\n",
    "print(configs)\n",
    "\n",
    "# train\n",
    "train_data = load_dataset(\"social_bias_frames\", split=\"train\")\n",
    "# test\n",
    "test_data = load_dataset(\"social_bias_frames\", split=\"test\")"
   ],
   "metadata": {
    "collapsed": false,
    "ExecuteTime": {
     "end_time": "2023-12-03T01:00:25.567740100Z",
     "start_time": "2023-12-03T01:00:18.709688800Z"
    }
   },
   "id": "99b41e3ead5fd2a2"
  },
  {
   "cell_type": "code",
   "execution_count": 3,
   "outputs": [],
   "source": [
    "# Check if links and emojis in text\n",
    "def has_links(text):\n",
    "    # Define a regular expression for URLs\n",
    "    url_pattern = r'https?://\\S+|www\\.\\S+'\n",
    "    return int(bool(re.search(url_pattern, text)))\n",
    "\n",
    "\n",
    "def has_emojis(text):\n",
    "    # Define a regular expression for emojis\n",
    "    emoji_pattern = r'[\\U00010000-\\U0010ffff]'\n",
    "    return int(bool(re.search(emoji_pattern, text)))\n",
    "\n",
    "\n",
    "# Apply the custom functions to the dataset\n",
    "def apply_custom_features(dataset):\n",
    "    dataset = dataset.map(lambda x: {\"HasLinksYN\": 'Y' if has_links(x['post']) else 'N'})\n",
    "    dataset = dataset.map(lambda x: {\"HasEmojisYN\": 'Y' if has_emojis(x['post']) else 'N'})\n",
    "    return dataset"
   ],
   "metadata": {
    "collapsed": false,
    "ExecuteTime": {
     "end_time": "2023-12-03T01:00:25.573587600Z",
     "start_time": "2023-12-03T01:00:25.569563600Z"
    }
   },
   "id": "6de395c49b31b9ad"
  },
  {
   "cell_type": "code",
   "execution_count": 4,
   "outputs": [
    {
     "name": "stdout",
     "output_type": "stream",
     "text": [
      "(112900, 10328)\n"
     ]
    }
   ],
   "source": [
    "train_data = apply_custom_features(train_data)\n",
    "test_data = apply_custom_features(test_data)\n",
    "\n",
    "# Separate the features and labels for training and testing data\n",
    "labels_tr = train_data[\"offensiveYN\"]\n",
    "data_tr = train_data.remove_columns(\"offensiveYN\")\n",
    "labels_te = test_data[\"offensiveYN\"]\n",
    "data_te = test_data.remove_columns(\"offensiveYN\")\n",
    "\n",
    "# Convert the dataset to a pandas DataFrame\n",
    "data_tr = data_tr.to_pandas()\n",
    "data_te = data_te.to_pandas()\n",
    "\n",
    "# Step 2: Preprocess the text data using TF-IDF\n",
    "tfidf_vectorizer = TfidfVectorizer(min_df=10, token_pattern=r'[a-zA-Z]+')\n",
    "X_train = tfidf_vectorizer.fit_transform(data_tr['post'])\n",
    "X_test = tfidf_vectorizer.transform(data_te['post'])\n",
    "\n",
    "print(X_train.shape)  # Check the shape of X_train"
   ],
   "metadata": {
    "collapsed": false,
    "ExecuteTime": {
     "end_time": "2023-12-03T01:00:26.983638200Z",
     "start_time": "2023-12-03T01:00:25.574587900Z"
    }
   },
   "id": "9d1576d8e46e2a92"
  },
  {
   "cell_type": "code",
   "execution_count": 5,
   "outputs": [],
   "source": [
    "# Combine text features and additional features\n",
    "data_tr['HasLinksYN'] = data_tr['HasLinksYN'].map({'N': 0, 'Y': 1})\n",
    "data_tr['HasEmojisYN'] = data_tr['HasEmojisYN'].map({'N': 0, 'Y': 1})\n",
    "\n",
    "data_te['HasLinksYN'] = data_te['HasLinksYN'].map({'N': 0, 'Y': 1})\n",
    "data_te['HasEmojisYN'] = data_te['HasEmojisYN'].map({'N': 0, 'Y': 1})\n",
    "\n",
    "# Select only the numeric columns for converting to sparse matrix\n",
    "numeric_columns_tr = ['HasLinksYN', 'HasEmojisYN'] \n",
    "numeric_columns_te = ['HasLinksYN', 'HasEmojisYN']\n",
    "\n",
    "# Convert additional features to sparse matrix\n",
    "data_tr_sparse = csr_matrix(data_tr[numeric_columns_tr].values)\n",
    "data_te_sparse = csr_matrix(data_te[numeric_columns_te].values)\n",
    "\n",
    "# Combine text features and additional features\n",
    "X_combined_train = hstack([X_train, data_tr_sparse], format='csr')\n",
    "X_combined_test = hstack([X_test, data_te_sparse], format='csr')\n",
    "\n",
    "# Step 4: Prepare labels\n",
    "y_train = labels_tr\n",
    "y_test = labels_te\n",
    "\n",
    "# # Define the parameter grid to search for the best 'max_depth'\n",
    "# param_grid = {'max_depth': range(1, 21)}  # Searching from 1 to 20\n",
    "# \n",
    "# # Initialize the decision tree classifier\n",
    "# dtree = DecisionTreeClassifier(random_state=42)\n",
    "#\n",
    "# # Initialize GridSearchCV with cross-validation\n",
    "# grid_search = GridSearchCV(dtree, param_grid, cv=5, scoring='accuracy')\n",
    "#\n",
    "# # Fit GridSearchCV on the training data\n",
    "# grid_search.fit(X_combined_train, y_train)\n",
    "#\n",
    "# # Print the best parameter and the corresponding score from the training (cross-validation)\n",
    "# print(f\"Best Parameter from training: {grid_search.best_params_}\")\n",
    "# print(f\"Best Score from training: {grid_search.best_score_}\")"
   ],
   "metadata": {
    "collapsed": false,
    "ExecuteTime": {
     "end_time": "2023-12-03T01:00:27.030845300Z",
     "start_time": "2023-12-03T01:00:26.981094800Z"
    }
   },
   "id": "830ca925210a9c4f"
  },
  {
   "cell_type": "markdown",
   "source": [
    "## Algorithms"
   ],
   "metadata": {
    "collapsed": false
   },
   "id": "fcf2952a4c0552ff"
  },
  {
   "cell_type": "markdown",
   "source": [
    "# Decision Tree Classifier"
   ],
   "metadata": {
    "collapsed": false
   },
   "id": "d89ecd0d22deecb2"
  },
  {
   "cell_type": "code",
   "execution_count": 6,
   "outputs": [
    {
     "name": "stdout",
     "output_type": "stream",
     "text": [
      "Decision Tree Results:\n",
      "Accuracy: 0.6480201131363922\n",
      "\n",
      "Decision Tree Classification Report:\n",
      "              precision    recall  f1-score   support\n",
      "\n",
      "                   0.02      0.03      0.02       232\n",
      "         0.0       0.54      0.69      0.61      5500\n",
      "         0.5       0.10      0.06      0.07      1230\n",
      "         1.0       0.78      0.71      0.75     10539\n",
      "\n",
      "    accuracy                           0.65     17501\n",
      "   macro avg       0.36      0.37      0.36     17501\n",
      "weighted avg       0.65      0.65      0.64     17501\n"
     ]
    }
   ],
   "source": [
    "# Step 5: Train the Decision Tree Classifier\n",
    "clf = DecisionTreeClassifier(random_state=1)\n",
    "clf.fit(X_combined_train, y_train)\n",
    "\n",
    "# Step 6: Make Predictions on the test set\n",
    "y_pred = clf.predict(X_combined_test)\n",
    "\n",
    "# Step 7: Evaluate the Model\n",
    "accuracy_dt = accuracy_score(y_test, y_pred)\n",
    "report_dt = classification_report(y_test, y_pred, zero_division=0)\n",
    "\n",
    "print(f\"Decision Tree Results:\")\n",
    "print(f\"Accuracy: {accuracy_dt}\")\n",
    "print(\"\\nDecision Tree Classification Report:\")\n",
    "print(report_dt)"
   ],
   "metadata": {
    "collapsed": false,
    "ExecuteTime": {
     "end_time": "2023-12-03T01:01:37.115361500Z",
     "start_time": "2023-12-03T01:00:27.017333100Z"
    }
   },
   "id": "f875dbbdaefca06b"
  },
  {
   "cell_type": "code",
   "execution_count": 7,
   "outputs": [
    {
     "name": "stdout",
     "output_type": "stream",
     "text": [
      "\n",
      "Naive Bayes Results:\n",
      "Accuracy: 0.7566996171647334\n",
      "\n",
      "Naive Bayes Classification Report:\n",
      "              precision    recall  f1-score   support\n",
      "\n",
      "                   0.00      0.00      0.00       232\n",
      "         0.0       0.67      0.75      0.71      5500\n",
      "         0.5       0.00      0.00      0.00      1230\n",
      "         1.0       0.81      0.86      0.83     10539\n",
      "\n",
      "    accuracy                           0.76     17501\n",
      "   macro avg       0.37      0.40      0.39     17501\n",
      "weighted avg       0.70      0.76      0.72     17501\n"
     ]
    }
   ],
   "source": [
    "# Step 8: Train the Naive Bayes Classifier\n",
    "nb_clf = MultinomialNB()\n",
    "nb_clf.fit(X_combined_train, y_train)\n",
    "\n",
    "# Step 9: Make Predictions on the test set with Naive Bayes\n",
    "y_pred_nb = nb_clf.predict(X_combined_test)\n",
    "\n",
    "# Step 10: Evaluate the Naive Bayes Model\n",
    "accuracy_nb = accuracy_score(y_test, y_pred_nb)\n",
    "report_nb = classification_report(y_test, y_pred_nb, zero_division=0)\n",
    "\n",
    "print(\"\\nNaive Bayes Results:\")\n",
    "print(f\"Accuracy: {accuracy_nb}\")\n",
    "print(\"\\nNaive Bayes Classification Report:\")\n",
    "print(report_nb)"
   ],
   "metadata": {
    "collapsed": false,
    "ExecuteTime": {
     "end_time": "2023-12-03T01:01:37.360494300Z",
     "start_time": "2023-12-03T01:01:37.116365100Z"
    }
   },
   "id": "12cc9f9cd5997b9"
  },
  {
   "cell_type": "markdown",
   "source": [
    "# MLP Classifier,\n",
    "Using SVD first\n",
    "Looping based on learning rate, 300 iterations"
   ],
   "metadata": {
    "collapsed": false
   },
   "id": "f8368cb1e5ef3291"
  },
  {
   "cell_type": "code",
   "execution_count": 8,
   "outputs": [
    {
     "name": "stderr",
     "output_type": "stream",
     "text": [
      "C:\\Users\\antho\\AppData\\Local\\Programs\\Python\\Python311\\Lib\\site-packages\\sklearn\\neural_network\\_multilayer_perceptron.py:691: ConvergenceWarning: Stochastic Optimizer: Maximum iterations (300) reached and the optimization hasn't converged yet.\n",
      "  warnings.warn(\n"
     ]
    }
   ],
   "source": [
    "# Standardize the features before feeding them into MLP\n",
    "scaler = StandardScaler(with_mean=False)\n",
    "X_train_scaled = scaler.fit_transform(X_train)\n",
    "X_test_scaled = scaler.transform(X_test)\n",
    "\n",
    "acc = []\n",
    "#MLP Hyperparameters\n",
    "# MLPlearn = [0.0001, 0.001, 0.01, 0.1, 0.15, 0.2, 0.25, 0.3, 0.35, 0.4, 0.45, 0.5, 0.6, 0.7]\n",
    "MLPlearn = [10e-5, 10e-4, 10e-3, 10e-2, 10e-1]\n",
    "svd = TruncatedSVD(n_components=20)\n",
    "trunc = svd.fit_transform(X_train_scaled)\n",
    "trunc_test = svd.transform(X_test_scaled)\n",
    "\n",
    "for lr in MLPlearn:\n",
    "    # Train the Multi-layer Perceptron Classifier\n",
    "    mlp_clf = MLPClassifier(random_state=1, activation='relu', max_iter=300, learning_rate='adaptive', learning_rate_init=lr)\n",
    "    mlp_clf.fit(trunc, y_train)\n",
    "    \n",
    "    # Make Predictions on the test set with MLP\n",
    "    y_pred_mlp = mlp_clf.predict(trunc_test)\n",
    "    accuracy_sc = accuracy_score(y_test, y_pred_mlp)\n",
    "    acc.append(accuracy_sc)\n",
    "\n",
    "# # Evaluate the MLP Model\n",
    "# accuracy_mlp = accuracy_score(y_test, y_pred_mlp)\n",
    "# report_mlp = classification_report(y_test, y_pred_mlp, zero_division=0)\n",
    "# \n",
    "# print(\"\\nMulti-layer Perceptron Results\")\n",
    "# print(f\"Accuracy: {accuracy_mlp}\")\n",
    "# print(\"\\nMulti-layer Perceptron Classification Report:\")\n",
    "# print(report_mlp)"
   ],
   "metadata": {
    "collapsed": false,
    "ExecuteTime": {
     "end_time": "2023-12-03T01:08:56.966108Z",
     "start_time": "2023-12-03T01:01:37.356887900Z"
    }
   },
   "id": "e14eb8d0f41fdbc3"
  },
  {
   "cell_type": "code",
   "execution_count": 9,
   "outputs": [
    {
     "data": {
      "text/plain": "<Figure size 1000x600 with 1 Axes>",
      "image/png": "[encoded data removed]"
     },
     "metadata": {},
     "output_type": "display_data"
    }
   ],
   "source": [
    "# Plot the results\n",
    "#max iteration 300\n",
    "plt.figure(figsize=(10, 6))\n",
    "plt.plot(MLPlearn, acc, marker='o', label='Accuracy')\n",
    "plt.xscale('log')\n",
    "plt.xlabel('Learning Rate')\n",
    "plt.ylabel('Accuracy')\n",
    "plt.title('MLP Accuracy vs. Learning Rate')\n",
    "plt.legend()\n",
    "plt.grid(True)\n",
    "plt.show()"
   ],
   "metadata": {
    "collapsed": false,
    "ExecuteTime": {
     "end_time": "2023-12-03T01:08:57.383584600Z",
     "start_time": "2023-12-03T01:08:56.969620Z"
    }
   },
   "id": "71df3481f0a5ca20"
  },
  {
   "cell_type": "markdown",
   "source": [
    "# MLP Classifier,\n",
    "Using SVD first\n",
    "Looping based on iterations,\n",
    "learning rate 10e-3"
   ],
   "metadata": {
    "collapsed": false
   },
   "id": "929512fc2c55169a"
  },
  {
   "cell_type": "code",
   "execution_count": null,
   "outputs": [
    {
     "name": "stderr",
     "output_type": "stream",
     "text": [
      "C:\\Users\\antho\\AppData\\Local\\Programs\\Python\\Python311\\Lib\\site-packages\\sklearn\\neural_network\\_multilayer_perceptron.py:691: ConvergenceWarning: Stochastic Optimizer: Maximum iterations (10) reached and the optimization hasn't converged yet.\n",
      "  warnings.warn(\n",
      "C:\\Users\\antho\\AppData\\Local\\Programs\\Python\\Python311\\Lib\\site-packages\\sklearn\\neural_network\\_multilayer_perceptron.py:691: ConvergenceWarning: Stochastic Optimizer: Maximum iterations (50) reached and the optimization hasn't converged yet.\n",
      "  warnings.warn(\n"
     ]
    }
   ],
   "source": [
    "# Standardize the features before feeding them into MLP\n",
    "scaler = StandardScaler(with_mean=False)\n",
    "X_train_scaled = scaler.fit_transform(X_train)\n",
    "X_test_scaled = scaler.transform(X_test)\n",
    "\n",
    "acc = []\n",
    "#MLP Hyperparameters\n",
    "# MLPlearn = [0.0001, 0.001, 0.01, 0.1, 0.15, 0.2, 0.25, 0.3, 0.35, 0.4, 0.45, 0.5, 0.6, 0.7]\n",
    "# MLPlearn = [10e-5, 10e-4, 10e-3, 10e-2, 10e-1]\n",
    "it = [10, 50, 100, 200, 300]\n",
    "svd = TruncatedSVD(n_components=20)\n",
    "trunc = svd.fit_transform(X_train_scaled)\n",
    "trunc_test = svd.transform(X_test_scaled)\n",
    "\n",
    "for itera in it:\n",
    "    # Train the Multi-layer Perceptron Classifier\n",
    "    mlp_clf = MLPClassifier(random_state=1, activation='relu', max_iter=itera, learning_rate='adaptive', learning_rate_init=10e-3)\n",
    "    mlp_clf.fit(trunc, y_train)\n",
    "    \n",
    "    # Make Predictions on the test set with MLP\n",
    "    y_pred_mlp = mlp_clf.predict(trunc_test)\n",
    "    accuracy_sc = accuracy_score(y_test, y_pred_mlp)\n",
    "    acc.append(accuracy_sc)"
   ],
   "metadata": {
    "collapsed": false,
    "is_executing": true,
    "ExecuteTime": {
     "start_time": "2023-12-03T01:08:57.383584600Z"
    }
   },
   "id": "3ce49b85d197e37a"
  },
  {
   "cell_type": "markdown",
   "source": [
    "Plotting Vs. Learning Rate"
   ],
   "metadata": {
    "collapsed": false
   },
   "id": "b74bac41aa3dc554"
  },
  {
   "cell_type": "code",
   "execution_count": null,
   "outputs": [],
   "source": [
    "# Plot the results\n",
    "#max iteration 300\n",
    "plt.figure(figsize=(10, 6))\n",
    "plt.plot(it, acc, marker='o', label='Accuracy')\n",
    "plt.xscale('log')\n",
    "plt.xlabel('Iterations')\n",
    "plt.ylabel('Accuracy')\n",
    "plt.title('MLP Accuracy vs. Iteration')\n",
    "plt.legend()\n",
    "plt.grid(True)\n",
    "plt.show()"
   ],
   "metadata": {
    "collapsed": false,
    "is_executing": true
   },
   "id": "ebaf69f317c80d2"
  },
  {
   "cell_type": "markdown",
   "source": [
    "# Log Regression Classifier\n",
    "looping on solver\n"
   ],
   "metadata": {
    "collapsed": false
   },
   "id": "c54a6d1ec542c39f"
  },
  {
   "cell_type": "code",
   "execution_count": null,
   "outputs": [],
   "source": [
    "s = ['lbfgs', 'liblinear', 'newton-cg', 'newton-cholesky', 'sag', 'saga']\n",
    "acc = []\n",
    "\n",
    "for sol in s:\n",
    "    # Train the Logistic Regression Classifier\n",
    "    log_reg = LogisticRegression(max_iter=1000, solver=sol)\n",
    "    log_reg.fit(X_train, y_train)\n",
    "    \n",
    "    # Make Predictions on the test set with Logistic Regression\n",
    "    y_pred_lr = log_reg.predict(X_test)\n",
    "    \n",
    "    # Evaluate the Logistic Regression Model\n",
    "    accuracy_lr = accuracy_score(y_test, y_pred_lr)\n",
    "    report_lr = classification_report(y_test, y_pred_lr, zero_division=0)\n",
    "    acc.append(accuracy_lr)\n",
    "\n",
    "print(\"\\nLogistic Regression Results\")\n",
    "print(f\"Accuracy: {accuracy_lr}\")\n",
    "print(\"\\nLogistic Regression Classification Report:\")\n",
    "print(report_lr)"
   ],
   "metadata": {
    "collapsed": false,
    "is_executing": true
   },
   "id": "967c17003d9fe4de"
  },
  {
   "cell_type": "code",
   "execution_count": null,
   "outputs": [],
   "source": [
    "# Plot the results\n",
    "#max iteration 300\n",
    "plt.figure(figsize=(10, 6))\n",
    "plt.bar(s, acc, label='Accuracy')\n",
    "plt.xlabel('Solver')\n",
    "plt.ylabel('Accuracy')\n",
    "plt.title('Logistic Accuracy vs. Solver')\n",
    "plt.legend()\n",
    "plt.grid(True)\n",
    "plt.show()"
   ],
   "metadata": {
    "collapsed": false,
    "is_executing": true
   },
   "id": "73e1f3591e5985ea"
  },
  {
   "cell_type": "markdown",
   "source": [
    "# Svm Classifier\n"
   ],
   "metadata": {
    "collapsed": false
   },
   "id": "d8b5426cba653fa9"
  },
  {
   "cell_type": "code",
   "execution_count": null,
   "outputs": [],
   "source": [
    "# Step 11: Train the SVM Classifier\n",
    "# Initialize the SVM classifier with a linear kernel\n",
    "svm_clf = LinearSVC(dual=False, tol=1e-4, max_iter=2000)\n",
    "\n",
    "# Ensure data is scaled\n",
    "X_train_scaled = scaler.fit_transform(X_combined_train)\n",
    "X_test_scaled = scaler.transform(X_combined_test)\n",
    "\n",
    "# Fit the SVM classifier on the scaled training data\n",
    "svm_clf.fit(X_train_scaled, y_train)\n",
    "\n",
    "# Make Predictions on the scaled test set with SVM\n",
    "y_pred_svm = svm_clf.predict(X_test_scaled)\n",
    "\n",
    "# Evaluate the SVM Model\n",
    "accuracy_svm = accuracy_score(y_test, y_pred_svm)\n",
    "report_svm = classification_report(y_test, y_pred_svm, zero_division=0)\n",
    "\n",
    "# Print SVM results\n",
    "print(\"\\nSVM Results:\")\n",
    "print(f\"Accuracy: {accuracy_svm}\")\n",
    "print(\"\\nSVM Classification Report:\")\n",
    "print(report_svm)"
   ],
   "metadata": {
    "collapsed": false,
    "is_executing": true
   },
   "id": "a43ad11444caa94e"
  },
  {
   "cell_type": "code",
   "execution_count": null,
   "outputs": [],
   "source": [
    "kernels = [\"linear\", \"poly\", \"rbf\", \"sigmoid\", \"precomputed\"]\n",
    "# Ensure data is scaled\n",
    "X_train_scaled = scaler.fit_transform(X_combined_train)\n",
    "X_test_scaled = scaler.transform(X_combined_test)\n",
    "acc = []\n",
    "for k in kernels:\n",
    "    svmclf = make_pipeline(StandardScaler(), SVC(kernel=k, gamma='auto'))\n",
    "    svmclf.fit(X_train_scaled, y_train)\n",
    "    # Make Predictions on the scaled test set with SVM\n",
    "    y_pred_svm = svm_clf.predict(X_test_scaled)\n",
    "    \n",
    "    # Evaluate the SVM Model\n",
    "    accuracy_svm = accuracy_score(y_test, y_pred_svm)\n",
    "    report_svm = classification_report(y_test, y_pred_svm, zero_division=0)\n",
    "    acc.append(accuracy_svm)"
   ],
   "metadata": {
    "collapsed": false
   },
   "id": "e8b020e4086335b1"
  },
  {
   "cell_type": "code",
   "execution_count": null,
   "outputs": [],
   "source": [
    "# Plot the results\n",
    "#max iteration 300\n",
    "plt.figure(figsize=(10, 6))\n",
    "plt.bar(k, acc, label='Accuracy')\n",
    "plt.xlabel('Kernel')\n",
    "plt.ylabel('Accuracy')\n",
    "plt.title('SVM Vs. Kernel')\n",
    "plt.legend()\n",
    "plt.grid(True)\n",
    "plt.show()"
   ],
   "metadata": {
    "collapsed": false
   },
   "id": "660e45aef60c24"
  },
  {
   "cell_type": "markdown",
   "source": [],
   "metadata": {
    "collapsed": false
   },
   "id": "c4d56bf60822b794"
  }
 ],
 "metadata": {
  "kernelspec": {
   "display_name": "Python 3",
   "language": "python",
   "name": "python3"
  },
  "language_info": {
   "codemirror_mode": {
    "name": "ipython",
    "version": 2
   },
   "file_extension": ".py",
   "mimetype": "text/x-python",
   "name": "python",
   "nbconvert_exporter": "python",
   "pygments_lexer": "ipython2",
   "version": "2.7.6"
  }
 },
 "nbformat": 4,
 "nbformat_minor": 5
}
